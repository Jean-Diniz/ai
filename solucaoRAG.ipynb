{
 "cells": [
  {
   "cell_type": "code",
   "execution_count": 36,
   "metadata": {},
   "outputs": [],
   "source": [
    "from langchain_text_splitters import RecursiveCharacterTextSplitter\n",
    "from langchain_groq import ChatGroq\n",
    "from langchain_chroma import Chroma\n",
    "from langchain_ollama import OllamaEmbeddings\n",
    "from langchain_community.document_loaders import PyPDFLoader\n",
    "from langchain.chains.question_answering import load_qa_chain"
   ]
  },
  {
   "cell_type": "code",
   "execution_count": 37,
   "metadata": {},
   "outputs": [],
   "source": [
    "import os\n",
    "os.environ[\"GROQ_API_KEY\"] = \"\"\n",
    "\n",
    "embedding_model = OllamaEmbeddings(model=\"nomic-embed-text\")\n",
    "\n",
    "llm = ChatGroq(\n",
    "    model=\"llama-3.3-70b-versatile\",\n",
    "    temperature=1.0,\n",
    "    max_retries=2,\n",
    ")"
   ]
  },
  {
   "cell_type": "code",
   "execution_count": 38,
   "metadata": {},
   "outputs": [],
   "source": [
    "#Carregar pdf\n",
    "\n",
    "pdf_link = \"lotus.pdf\"\n",
    "\n",
    "loader = PyPDFLoader(pdf_link, extract_images=False)\n",
    "pages = loader.load_and_split()"
   ]
  },
  {
   "cell_type": "code",
   "execution_count": 39,
   "metadata": {},
   "outputs": [],
   "source": [
    "#Chunks\n",
    "\n",
    "text_splitter = RecursiveCharacterTextSplitter(\n",
    "    chunk_size = 4000,\n",
    "    chunk_overlap = 20,\n",
    "    length_function = len,\n",
    "    add_start_index = True\n",
    ")\n",
    "\n",
    "chunks = text_splitter.split_documents(pages)"
   ]
  },
  {
   "cell_type": "code",
   "execution_count": 40,
   "metadata": {},
   "outputs": [],
   "source": [
    "# Salvar no Vector DB = Chroma\n",
    "\n",
    "db = Chroma.from_documents(chunks, embedding=embedding_model, persist_directory=\"text_index_2\")\n"
   ]
  },
  {
   "cell_type": "code",
   "execution_count": 41,
   "metadata": {},
   "outputs": [],
   "source": [
    "#Carregar DB\n",
    "\n",
    "vectordb = Chroma(persist_directory=\"text_index_2\", embedding_function=embedding_model)\n",
    "\n",
    "#Load Retriever\n",
    "retriever = vectordb.as_retriever(search_kwargs={\"k\":3})\n",
    "\n",
    "#Construção da cadeia de promt para chamda do LLM\n",
    "chain = load_qa_chain(llm, chain_type=\"stuff\")"
   ]
  },
  {
   "cell_type": "code",
   "execution_count": 42,
   "metadata": {},
   "outputs": [],
   "source": [
    "def ask(question):\n",
    "    context = retriever.get_relevant_documents(question)\n",
    "    answer = (chain({\"input_documents\": context, \"question\": question}, return_only_outputs=True))['output_text']\n",
    "    return answer"
   ]
  },
  {
   "cell_type": "code",
   "execution_count": 44,
   "metadata": {},
   "outputs": [
    {
     "name": "stdout",
     "output_type": "stream",
     "text": [
      "Answer:  De acordo com o texto, TAG é considerado melhor que Text2SQL e RAG por várias razões:\n",
      "\n",
      "1. **Flexibilidade**: TAG pode gerar mais do que apenas consultas SQL, podendo combinar múltiplas fontes e tipos de dados.\n",
      "2. **Capacidade de lidar com dados de texto livre**: Text2SQL não pode lidar com dados de texto livre, enquanto TAG pode.\n",
      "3. **Redução de \"hallucinações\"**: RAG pode fornecer respostas incompletas ou inaccuradas, especialmente quando não tem conhecimento do banco de dados ou não pode traduzir a intenção do usuário corretamente. TAG pareceaddressar esses problemas.\n",
      "4. **Eficiência com grandes conjuntos de dados**: RAG é ineficiente com grandes conjuntos de dados, enquanto TAG parece ser mais eficiente.\n",
      "5. **Capacidade de fornecer respostas abrangentes**: TAG pode fornecer respostas mais completas e abrangentes, especialmente em cenários que requerem razão sobre múltiplos pontos de dados.\n",
      "\n",
      "No entanto, é importante notar que o texto não fornece uma comparação exaustiva entre TAG e as outras abordagens, e que a eficácia de TAG pode depender de vários fatores, como a implementação e o contexto específico de uso.\n"
     ]
    }
   ],
   "source": [
    "user_question = input(\"User: \")\n",
    "answer = ask(user_question)\n",
    "print(\"Answer: \", answer)"
   ]
  }
 ],
 "metadata": {
  "kernelspec": {
   "display_name": ".venv",
   "language": "python",
   "name": "python3"
  },
  "language_info": {
   "codemirror_mode": {
    "name": "ipython",
    "version": 3
   },
   "file_extension": ".py",
   "mimetype": "text/x-python",
   "name": "python",
   "nbconvert_exporter": "python",
   "pygments_lexer": "ipython3",
   "version": "3.13.0"
  }
 },
 "nbformat": 4,
 "nbformat_minor": 2
}
